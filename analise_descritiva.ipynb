{
 "cells": [
  {
   "cell_type": "markdown",
   "metadata": {},
   "source": [
    "# Análise Descritiva"
   ]
  },
  {
   "cell_type": "code",
   "execution_count": 10,
   "metadata": {
    "collapsed": false
   },
   "outputs": [],
   "source": [
    "import pandas as pd\n",
    "import numpy as np\n",
    "\n",
    "insights_features = pd.read_csv('insights-data.csv')"
   ]
  },
  {
   "cell_type": "markdown",
   "metadata": {},
   "source": [
    "## 1. Contagem"
   ]
  },
  {
   "cell_type": "code",
   "execution_count": 11,
   "metadata": {
    "collapsed": false
   },
   "outputs": [
    {
     "name": "stdout",
     "output_type": "stream",
     "text": [
      "Insights - Amostragem: 330\n"
     ]
    }
   ],
   "source": [
    "print('Insights - Amostragem: %i' %len(insights_features))"
   ]
  },
  {
   "cell_type": "code",
   "execution_count": 12,
   "metadata": {
    "collapsed": false,
    "scrolled": true
   },
   "outputs": [
    {
     "data": {
      "text/html": [
       "<div>\n",
       "<table border=\"1\" class=\"dataframe\">\n",
       "  <thead>\n",
       "    <tr style=\"text-align: right;\">\n",
       "      <th></th>\n",
       "      <th>Amostra</th>\n",
       "      <th>filename</th>\n",
       "      <th>insigths</th>\n",
       "      <th>segment</th>\n",
       "      <th>wc</th>\n",
       "      <th>wps</th>\n",
       "      <th>i</th>\n",
       "      <th>we</th>\n",
       "      <th>you</th>\n",
       "      <th>they</th>\n",
       "      <th>...</th>\n",
       "      <th>posemo</th>\n",
       "      <th>negemo</th>\n",
       "      <th>anx</th>\n",
       "      <th>sad</th>\n",
       "      <th>cogmech</th>\n",
       "      <th>insight</th>\n",
       "      <th>cause</th>\n",
       "      <th>discrep</th>\n",
       "      <th>tentat</th>\n",
       "      <th>certain</th>\n",
       "    </tr>\n",
       "  </thead>\n",
       "  <tbody>\n",
       "    <tr>\n",
       "      <th>0</th>\n",
       "      <td>Daniela</td>\n",
       "      <td>and01.txt</td>\n",
       "      <td>0</td>\n",
       "      <td>1</td>\n",
       "      <td>250</td>\n",
       "      <td>10.42</td>\n",
       "      <td>10.40</td>\n",
       "      <td>0.80</td>\n",
       "      <td>0.00</td>\n",
       "      <td>0.40</td>\n",
       "      <td>...</td>\n",
       "      <td>7.20</td>\n",
       "      <td>1.60</td>\n",
       "      <td>0.00</td>\n",
       "      <td>0.00</td>\n",
       "      <td>25.20</td>\n",
       "      <td>3.60</td>\n",
       "      <td>3.20</td>\n",
       "      <td>2.80</td>\n",
       "      <td>1.20</td>\n",
       "      <td>3.60</td>\n",
       "    </tr>\n",
       "    <tr>\n",
       "      <th>1</th>\n",
       "      <td>Daniela</td>\n",
       "      <td>and02.txt</td>\n",
       "      <td>0</td>\n",
       "      <td>1</td>\n",
       "      <td>218</td>\n",
       "      <td>12.11</td>\n",
       "      <td>12.84</td>\n",
       "      <td>0.46</td>\n",
       "      <td>0.00</td>\n",
       "      <td>0.00</td>\n",
       "      <td>...</td>\n",
       "      <td>3.67</td>\n",
       "      <td>0.92</td>\n",
       "      <td>0.00</td>\n",
       "      <td>0.46</td>\n",
       "      <td>24.31</td>\n",
       "      <td>2.29</td>\n",
       "      <td>0.92</td>\n",
       "      <td>3.21</td>\n",
       "      <td>3.67</td>\n",
       "      <td>2.75</td>\n",
       "    </tr>\n",
       "    <tr>\n",
       "      <th>2</th>\n",
       "      <td>Daniela</td>\n",
       "      <td>and03.txt</td>\n",
       "      <td>0</td>\n",
       "      <td>1</td>\n",
       "      <td>14</td>\n",
       "      <td>4.67</td>\n",
       "      <td>14.29</td>\n",
       "      <td>0.00</td>\n",
       "      <td>0.00</td>\n",
       "      <td>0.00</td>\n",
       "      <td>...</td>\n",
       "      <td>0.00</td>\n",
       "      <td>0.00</td>\n",
       "      <td>0.00</td>\n",
       "      <td>0.00</td>\n",
       "      <td>21.43</td>\n",
       "      <td>7.14</td>\n",
       "      <td>0.00</td>\n",
       "      <td>7.14</td>\n",
       "      <td>7.14</td>\n",
       "      <td>0.00</td>\n",
       "    </tr>\n",
       "    <tr>\n",
       "      <th>3</th>\n",
       "      <td>Daniela</td>\n",
       "      <td>and04.txt</td>\n",
       "      <td>0</td>\n",
       "      <td>1</td>\n",
       "      <td>403</td>\n",
       "      <td>8.57</td>\n",
       "      <td>14.39</td>\n",
       "      <td>0.00</td>\n",
       "      <td>0.25</td>\n",
       "      <td>0.50</td>\n",
       "      <td>...</td>\n",
       "      <td>5.46</td>\n",
       "      <td>3.47</td>\n",
       "      <td>0.00</td>\n",
       "      <td>0.50</td>\n",
       "      <td>28.29</td>\n",
       "      <td>5.21</td>\n",
       "      <td>2.98</td>\n",
       "      <td>4.22</td>\n",
       "      <td>3.23</td>\n",
       "      <td>2.48</td>\n",
       "    </tr>\n",
       "    <tr>\n",
       "      <th>4</th>\n",
       "      <td>Daniela</td>\n",
       "      <td>and05.txt</td>\n",
       "      <td>0</td>\n",
       "      <td>1</td>\n",
       "      <td>109</td>\n",
       "      <td>12.11</td>\n",
       "      <td>8.26</td>\n",
       "      <td>0.00</td>\n",
       "      <td>0.00</td>\n",
       "      <td>0.92</td>\n",
       "      <td>...</td>\n",
       "      <td>1.83</td>\n",
       "      <td>5.50</td>\n",
       "      <td>2.75</td>\n",
       "      <td>0.00</td>\n",
       "      <td>21.10</td>\n",
       "      <td>3.67</td>\n",
       "      <td>0.92</td>\n",
       "      <td>1.83</td>\n",
       "      <td>4.59</td>\n",
       "      <td>2.75</td>\n",
       "    </tr>\n",
       "  </tbody>\n",
       "</table>\n",
       "<p>5 rows × 35 columns</p>\n",
       "</div>"
      ],
      "text/plain": [
       "   Amostra   filename  insigths  segment   wc    wps      i    we   you  they  \\\n",
       "0  Daniela  and01.txt         0        1  250  10.42  10.40  0.80  0.00  0.40   \n",
       "1  Daniela  and02.txt         0        1  218  12.11  12.84  0.46  0.00  0.00   \n",
       "2  Daniela  and03.txt         0        1   14   4.67  14.29  0.00  0.00  0.00   \n",
       "3  Daniela  and04.txt         0        1  403   8.57  14.39  0.00  0.25  0.50   \n",
       "4  Daniela  and05.txt         0        1  109  12.11   8.26  0.00  0.00  0.92   \n",
       "\n",
       "    ...     posemo  negemo   anx   sad  cogmech  insight  cause  discrep  \\\n",
       "0   ...       7.20    1.60  0.00  0.00    25.20     3.60   3.20     2.80   \n",
       "1   ...       3.67    0.92  0.00  0.46    24.31     2.29   0.92     3.21   \n",
       "2   ...       0.00    0.00  0.00  0.00    21.43     7.14   0.00     7.14   \n",
       "3   ...       5.46    3.47  0.00  0.50    28.29     5.21   2.98     4.22   \n",
       "4   ...       1.83    5.50  2.75  0.00    21.10     3.67   0.92     1.83   \n",
       "\n",
       "   tentat  certain  \n",
       "0    1.20     3.60  \n",
       "1    3.67     2.75  \n",
       "2    7.14     0.00  \n",
       "3    3.23     2.48  \n",
       "4    4.59     2.75  \n",
       "\n",
       "[5 rows x 35 columns]"
      ]
     },
     "execution_count": 12,
     "metadata": {},
     "output_type": "execute_result"
    }
   ],
   "source": [
    "insights_features.head(5)"
   ]
  },
  {
   "cell_type": "markdown",
   "metadata": {},
   "source": [
    "## 2. Features"
   ]
  },
  {
   "cell_type": "code",
   "execution_count": 20,
   "metadata": {
    "collapsed": false
   },
   "outputs": [
    {
     "name": "stdout",
     "output_type": "stream",
     "text": [
      "Amostra, object\n",
      "filename, object\n",
      "insigths, int64\n",
      "segment, int64\n",
      "wc, int64\n",
      "wps, float64\n",
      "i, float64\n",
      "we, float64\n",
      "you, float64\n",
      "they, float64\n",
      "article, float64\n",
      "verb, float64\n",
      "auxverb, float64\n",
      "past, float64\n",
      "present, float64\n",
      "future, float64\n",
      "adverb, float64\n",
      "preps, float64\n",
      "conj, float64\n",
      "negate, float64\n",
      "swear, float64\n",
      "family, float64\n",
      "friend, float64\n",
      "humans, float64\n",
      "affect, float64\n",
      "posemo, float64\n",
      "negemo, float64\n",
      "anx, float64\n",
      "sad, float64\n",
      "cogmech, float64\n",
      "insight, float64\n",
      "cause, float64\n",
      "discrep, float64\n",
      "tentat, float64\n",
      "certain, float64\n"
     ]
    }
   ],
   "source": [
    "for y in insights_features.columns:\n",
    "    print(y + ', ' + str(insights_features[y].dtype))"
   ]
  },
  {
   "cell_type": "code",
   "execution_count": null,
   "metadata": {
    "collapsed": true
   },
   "outputs": [],
   "source": []
  }
 ],
 "metadata": {
  "kernelspec": {
   "display_name": "Python 2",
   "language": "python",
   "name": "python2"
  },
  "language_info": {
   "codemirror_mode": {
    "name": "ipython",
    "version": 2
   },
   "file_extension": ".py",
   "mimetype": "text/x-python",
   "name": "python",
   "nbconvert_exporter": "python",
   "pygments_lexer": "ipython2",
   "version": "2.7.6"
  }
 },
 "nbformat": 4,
 "nbformat_minor": 0
}
