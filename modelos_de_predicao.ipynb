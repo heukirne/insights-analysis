{
 "cells": [
  {
   "cell_type": "markdown",
   "metadata": {},
   "source": [
    "# Modelos de Predição"
   ]
  },
  {
   "cell_type": "code",
   "execution_count": 1,
   "metadata": {
    "collapsed": true
   },
   "outputs": [],
   "source": [
    "import pandas as pd\n",
    "import numpy as np\n",
    "\n",
    "insights_data = pd.read_csv('insights-data.csv')"
   ]
  },
  {
   "cell_type": "markdown",
   "metadata": {},
   "source": [
    "## separa dados e classe"
   ]
  },
  {
   "cell_type": "code",
   "execution_count": 2,
   "metadata": {
    "collapsed": false
   },
   "outputs": [
    {
     "data": {
      "text/plain": [
       "(330, 32)"
      ]
     },
     "execution_count": 2,
     "metadata": {},
     "output_type": "execute_result"
    }
   ],
   "source": [
    "labels = insights_data[\"insigths\"].values\n",
    "insights_columns = insights_data.select_dtypes(include=['float64','int64']).columns.drop('insigths').drop('class').drop('time')\n",
    "features = insights_data[list(insights_columns)].values\n",
    "features.shape"
   ]
  },
  {
   "cell_type": "markdown",
   "metadata": {},
   "source": [
    "## define rotina de testes"
   ]
  },
  {
   "cell_type": "code",
   "execution_count": 3,
   "metadata": {
    "collapsed": false
   },
   "outputs": [],
   "source": [
    "from scipy.stats import spearmanr\n",
    "from sklearn.svm import SVR, LinearSVR\n",
    "from sklearn.linear_model import LinearRegression\n",
    "from sklearn.cross_validation import cross_val_score, train_test_split\n",
    "from sklearn.metrics import make_scorer\n",
    "from sklearn.feature_selection import SelectKBest, f_regression\n",
    "\n",
    "def simple_spearman(x,y): return np.abs(spearmanr(x,y)[0])\n",
    "spearmanr_scorer = make_scorer(simple_spearman)\n",
    "\n",
    "def cv4kBestReg(model, feats, labs, cvOpt, loops):\n",
    "    result_list = []\n",
    "    for i in range(1, loops+1):\n",
    "        kbest_features = SelectKBest(f_regression, k=i).fit_transform(feats, labs)\n",
    "        scores = cross_val_score(model, kbest_features, labels, cv=cvOpt, scoring=spearmanr_scorer)\n",
    "        result_list.append(scores.mean())\n",
    "        \n",
    "    return result_list"
   ]
  },
  {
   "cell_type": "markdown",
   "metadata": {},
   "source": [
    "## executa teste sobre modelos regressão"
   ]
  },
  {
   "cell_type": "code",
   "execution_count": 4,
   "metadata": {
    "collapsed": false
   },
   "outputs": [],
   "source": [
    "linear_model = LinearRegression()\n",
    "spearmanr_scores_linear = cv4kBestReg(linear_model, features, labels, 10, 20)"
   ]
  },
  {
   "cell_type": "code",
   "execution_count": 5,
   "metadata": {
    "collapsed": true
   },
   "outputs": [],
   "source": [
    "linearSVR_model = LinearSVR(epsilon=0.01)\n",
    "spearmanr_scores_svrLinear = cv4kBestReg(linearSVR_model, features, labels, 10, 20)"
   ]
  },
  {
   "cell_type": "code",
   "execution_count": 6,
   "metadata": {
    "collapsed": true
   },
   "outputs": [],
   "source": [
    "svr_model = SVR(C=1.0, epsilon=0.01, kernel='rbf')\n",
    "spearmanr_scores_svr = cv4kBestReg(svr_model, features, labels, 10, 20)"
   ]
  },
  {
   "cell_type": "markdown",
   "metadata": {},
   "source": [
    "## mostra resultados"
   ]
  },
  {
   "cell_type": "code",
   "execution_count": 7,
   "metadata": {
    "collapsed": false,
    "scrolled": true
   },
   "outputs": [
    {
     "data": {
      "image/png": "[encoded data removed]",
      "text/plain": [
       "<matplotlib.figure.Figure at 0xaea5154c>"
      ]
     },
     "metadata": {},
     "output_type": "display_data"
    }
   ],
   "source": [
    "import matplotlib.pyplot as plt\n",
    "%matplotlib inline\n",
    "\n",
    "plt.figure()\n",
    "\n",
    "n_features = range(1, 21)\n",
    "\n",
    "plt.plot(n_features, spearmanr_scores_linear, 'g', label='Linear Regression')\n",
    "plt.plot(n_features, spearmanr_scores_svrLinear, 'b', label='SVR Linear')\n",
    "plt.plot(n_features, spearmanr_scores_svr, 'r', label='SVR RBF')\n",
    "plt.xlabel('N of Features')\n",
    "plt.ylabel('CV Spearmanr Scores')\n",
    "plt.legend(loc='lower left')\n",
    "plt.legend(bbox_to_anchor=(1.05, 1), loc=2, borderaxespad=0.)\n",
    "\n",
    "plt.title('Regression Model Evaluation for Insigths')\n",
    "plt.show()"
   ]
  },
  {
   "cell_type": "markdown",
   "metadata": {},
   "source": [
    "## define rotina de classificação"
   ]
  },
  {
   "cell_type": "code",
   "execution_count": 8,
   "metadata": {
    "collapsed": true
   },
   "outputs": [],
   "source": [
    "from sklearn.feature_selection import chi2\n",
    "def cv4kBestClass(model, feats, labs, cvOpt, loops):\n",
    "    result_list = []\n",
    "    for i in range(1, loops+1):\n",
    "        kbest_features = SelectKBest(chi2, k=i).fit_transform(feats, labs)\n",
    "        scores = cross_val_score(model, kbest_features, labels, cv=cvOpt)\n",
    "        result_list.append(scores.mean())\n",
    "        \n",
    "    return result_list"
   ]
  },
  {
   "cell_type": "markdown",
   "metadata": {},
   "source": [
    "## executa modelos de classificação"
   ]
  },
  {
   "cell_type": "code",
   "execution_count": 15,
   "metadata": {
    "collapsed": false
   },
   "outputs": [],
   "source": [
    "from sklearn.naive_bayes import GaussianNB\n",
    "gnb_model = GaussianNB()\n",
    "scores_gnb = cv4kBestClass(gnb_model, features, labels, 10, 20)"
   ]
  },
  {
   "cell_type": "code",
   "execution_count": 10,
   "metadata": {
    "collapsed": false
   },
   "outputs": [],
   "source": [
    "from sklearn.naive_bayes import MultinomialNB\n",
    "mnb_model = MultinomialNB()\n",
    "scores_mnb = cv4kBestClass(mnb_model, features, labels, 10, 20)"
   ]
  },
  {
   "cell_type": "code",
   "execution_count": 11,
   "metadata": {
    "collapsed": false
   },
   "outputs": [],
   "source": [
    "from sklearn.tree import DecisionTreeClassifier\n",
    "tree_model = DecisionTreeClassifier(random_state=0)\n",
    "scores_tree = cv4kBestClass(tree_model, features, labels, 10, 20)"
   ]
  },
  {
   "cell_type": "code",
   "execution_count": 12,
   "metadata": {
    "collapsed": false
   },
   "outputs": [
    {
     "data": {
      "image/png": "[encoded data removed]",
      "text/plain": [
       "<matplotlib.figure.Figure at 0xadaca10c>"
      ]
     },
     "metadata": {},
     "output_type": "display_data"
    }
   ],
   "source": [
    "plt.figure()\n",
    "\n",
    "n_features = range(1, 21)\n",
    "\n",
    "plt.plot(n_features, scores_gnb, 'g', label='Gaussian Naive Bayes')\n",
    "plt.plot(n_features, scores_mnb, 'b', label='Multinominal Naive Bayes')\n",
    "plt.plot(n_features, scores_tree, 'r', label='Decision Tree')\n",
    "plt.xlabel('N of Features')\n",
    "plt.ylabel('CV Scores')\n",
    "plt.legend(loc='lower left')\n",
    "plt.legend(bbox_to_anchor=(1.05, 1), loc=2, borderaxespad=0.)\n",
    "\n",
    "plt.title('Classification Model Evaluation for Insights')\n",
    "plt.show()"
   ]
  },
  {
   "cell_type": "markdown",
   "metadata": {},
   "source": [
    "## Melhores métricas pelo SelectKBest Chi2"
   ]
  },
  {
   "cell_type": "code",
   "execution_count": 13,
   "metadata": {
    "collapsed": false
   },
   "outputs": [
    {
     "name": "stdout",
     "output_type": "stream",
     "text": [
      "[ 218.     12.84    0.     24.31    2.29]\n",
      "[ 14.    14.29   0.    21.43   7.14]\n",
      "[  4.03000000e+02   1.43900000e+01   2.50000000e-01   2.82900000e+01\n",
      "   5.21000000e+00]\n",
      "[ 109.      8.26    0.     21.1     3.67]\n",
      "[ 88.    10.23   3.41  14.77   1.14]\n",
      "[ 211.      8.06    0.     21.33    1.42]\n",
      "[ 162.     13.58    0.     19.14    3.09]\n",
      "[ 56.    10.71   0.    23.21   0.  ]\n",
      "[ 123.     13.01    0.     28.46    1.63]\n",
      "[ 138.     15.94    0.     22.46    7.25]\n"
     ]
    }
   ],
   "source": [
    "kbest_features = SelectKBest(chi2, k=5).fit_transform(features, labels)\n",
    "for i in range(1, 11):\n",
    "    print kbest_features[i]"
   ]
  },
  {
   "cell_type": "code",
   "execution_count": 14,
   "metadata": {
    "collapsed": false
   },
   "outputs": [
    {
     "data": {
      "text/html": [
       "<div>\n",
       "<table border=\"1\" class=\"dataframe\">\n",
       "  <thead>\n",
       "    <tr style=\"text-align: right;\">\n",
       "      <th></th>\n",
       "      <th>amostra</th>\n",
       "      <th>filename</th>\n",
       "      <th>insigths</th>\n",
       "      <th>segment</th>\n",
       "      <th>wc</th>\n",
       "      <th>wps</th>\n",
       "      <th>i</th>\n",
       "      <th>we</th>\n",
       "      <th>you</th>\n",
       "      <th>they</th>\n",
       "      <th>...</th>\n",
       "      <th>posemo</th>\n",
       "      <th>negemo</th>\n",
       "      <th>anx</th>\n",
       "      <th>sad</th>\n",
       "      <th>cogmech</th>\n",
       "      <th>insight</th>\n",
       "      <th>cause</th>\n",
       "      <th>discrep</th>\n",
       "      <th>tentat</th>\n",
       "      <th>certain</th>\n",
       "    </tr>\n",
       "  </thead>\n",
       "  <tbody>\n",
       "    <tr>\n",
       "      <th>0</th>\n",
       "      <td>Daniela</td>\n",
       "      <td>and01.txt</td>\n",
       "      <td>0</td>\n",
       "      <td>1</td>\n",
       "      <td>250</td>\n",
       "      <td>10.42</td>\n",
       "      <td>10.40</td>\n",
       "      <td>0.80</td>\n",
       "      <td>0.00</td>\n",
       "      <td>0.40</td>\n",
       "      <td>...</td>\n",
       "      <td>7.20</td>\n",
       "      <td>1.60</td>\n",
       "      <td>0.00</td>\n",
       "      <td>0.00</td>\n",
       "      <td>25.20</td>\n",
       "      <td>3.60</td>\n",
       "      <td>3.20</td>\n",
       "      <td>2.80</td>\n",
       "      <td>1.20</td>\n",
       "      <td>3.60</td>\n",
       "    </tr>\n",
       "    <tr>\n",
       "      <th>1</th>\n",
       "      <td>Daniela</td>\n",
       "      <td>and02.txt</td>\n",
       "      <td>0</td>\n",
       "      <td>1</td>\n",
       "      <td>218</td>\n",
       "      <td>12.11</td>\n",
       "      <td>12.84</td>\n",
       "      <td>0.46</td>\n",
       "      <td>0.00</td>\n",
       "      <td>0.00</td>\n",
       "      <td>...</td>\n",
       "      <td>3.67</td>\n",
       "      <td>0.92</td>\n",
       "      <td>0.00</td>\n",
       "      <td>0.46</td>\n",
       "      <td>24.31</td>\n",
       "      <td>2.29</td>\n",
       "      <td>0.92</td>\n",
       "      <td>3.21</td>\n",
       "      <td>3.67</td>\n",
       "      <td>2.75</td>\n",
       "    </tr>\n",
       "    <tr>\n",
       "      <th>2</th>\n",
       "      <td>Daniela</td>\n",
       "      <td>and03.txt</td>\n",
       "      <td>0</td>\n",
       "      <td>1</td>\n",
       "      <td>14</td>\n",
       "      <td>4.67</td>\n",
       "      <td>14.29</td>\n",
       "      <td>0.00</td>\n",
       "      <td>0.00</td>\n",
       "      <td>0.00</td>\n",
       "      <td>...</td>\n",
       "      <td>0.00</td>\n",
       "      <td>0.00</td>\n",
       "      <td>0.00</td>\n",
       "      <td>0.00</td>\n",
       "      <td>21.43</td>\n",
       "      <td>7.14</td>\n",
       "      <td>0.00</td>\n",
       "      <td>7.14</td>\n",
       "      <td>7.14</td>\n",
       "      <td>0.00</td>\n",
       "    </tr>\n",
       "    <tr>\n",
       "      <th>3</th>\n",
       "      <td>Daniela</td>\n",
       "      <td>and04.txt</td>\n",
       "      <td>0</td>\n",
       "      <td>1</td>\n",
       "      <td>403</td>\n",
       "      <td>8.57</td>\n",
       "      <td>14.39</td>\n",
       "      <td>0.00</td>\n",
       "      <td>0.25</td>\n",
       "      <td>0.50</td>\n",
       "      <td>...</td>\n",
       "      <td>5.46</td>\n",
       "      <td>3.47</td>\n",
       "      <td>0.00</td>\n",
       "      <td>0.50</td>\n",
       "      <td>28.29</td>\n",
       "      <td>5.21</td>\n",
       "      <td>2.98</td>\n",
       "      <td>4.22</td>\n",
       "      <td>3.23</td>\n",
       "      <td>2.48</td>\n",
       "    </tr>\n",
       "    <tr>\n",
       "      <th>4</th>\n",
       "      <td>Daniela</td>\n",
       "      <td>and05.txt</td>\n",
       "      <td>0</td>\n",
       "      <td>1</td>\n",
       "      <td>109</td>\n",
       "      <td>12.11</td>\n",
       "      <td>8.26</td>\n",
       "      <td>0.00</td>\n",
       "      <td>0.00</td>\n",
       "      <td>0.92</td>\n",
       "      <td>...</td>\n",
       "      <td>1.83</td>\n",
       "      <td>5.50</td>\n",
       "      <td>2.75</td>\n",
       "      <td>0.00</td>\n",
       "      <td>21.10</td>\n",
       "      <td>3.67</td>\n",
       "      <td>0.92</td>\n",
       "      <td>1.83</td>\n",
       "      <td>4.59</td>\n",
       "      <td>2.75</td>\n",
       "    </tr>\n",
       "    <tr>\n",
       "      <th>5</th>\n",
       "      <td>Daniela</td>\n",
       "      <td>and06.txt</td>\n",
       "      <td>0</td>\n",
       "      <td>1</td>\n",
       "      <td>88</td>\n",
       "      <td>6.77</td>\n",
       "      <td>10.23</td>\n",
       "      <td>0.00</td>\n",
       "      <td>3.41</td>\n",
       "      <td>0.00</td>\n",
       "      <td>...</td>\n",
       "      <td>4.55</td>\n",
       "      <td>7.95</td>\n",
       "      <td>2.27</td>\n",
       "      <td>1.14</td>\n",
       "      <td>14.77</td>\n",
       "      <td>1.14</td>\n",
       "      <td>0.00</td>\n",
       "      <td>1.14</td>\n",
       "      <td>2.27</td>\n",
       "      <td>2.27</td>\n",
       "    </tr>\n",
       "    <tr>\n",
       "      <th>6</th>\n",
       "      <td>Daniela</td>\n",
       "      <td>and07.txt</td>\n",
       "      <td>0</td>\n",
       "      <td>1</td>\n",
       "      <td>211</td>\n",
       "      <td>8.44</td>\n",
       "      <td>8.06</td>\n",
       "      <td>0.00</td>\n",
       "      <td>0.00</td>\n",
       "      <td>0.95</td>\n",
       "      <td>...</td>\n",
       "      <td>7.11</td>\n",
       "      <td>3.32</td>\n",
       "      <td>0.95</td>\n",
       "      <td>0.47</td>\n",
       "      <td>21.33</td>\n",
       "      <td>1.42</td>\n",
       "      <td>0.95</td>\n",
       "      <td>1.90</td>\n",
       "      <td>4.27</td>\n",
       "      <td>1.90</td>\n",
       "    </tr>\n",
       "    <tr>\n",
       "      <th>7</th>\n",
       "      <td>Daniela</td>\n",
       "      <td>and08.txt</td>\n",
       "      <td>0</td>\n",
       "      <td>1</td>\n",
       "      <td>162</td>\n",
       "      <td>8.53</td>\n",
       "      <td>13.58</td>\n",
       "      <td>0.00</td>\n",
       "      <td>0.00</td>\n",
       "      <td>0.00</td>\n",
       "      <td>...</td>\n",
       "      <td>6.17</td>\n",
       "      <td>11.11</td>\n",
       "      <td>1.85</td>\n",
       "      <td>7.41</td>\n",
       "      <td>19.14</td>\n",
       "      <td>3.09</td>\n",
       "      <td>4.32</td>\n",
       "      <td>0.62</td>\n",
       "      <td>0.62</td>\n",
       "      <td>0.00</td>\n",
       "    </tr>\n",
       "    <tr>\n",
       "      <th>8</th>\n",
       "      <td>Daniela</td>\n",
       "      <td>and09.txt</td>\n",
       "      <td>0</td>\n",
       "      <td>1</td>\n",
       "      <td>56</td>\n",
       "      <td>11.20</td>\n",
       "      <td>10.71</td>\n",
       "      <td>1.79</td>\n",
       "      <td>0.00</td>\n",
       "      <td>0.00</td>\n",
       "      <td>...</td>\n",
       "      <td>3.57</td>\n",
       "      <td>3.57</td>\n",
       "      <td>1.79</td>\n",
       "      <td>1.79</td>\n",
       "      <td>23.21</td>\n",
       "      <td>0.00</td>\n",
       "      <td>1.79</td>\n",
       "      <td>1.79</td>\n",
       "      <td>3.57</td>\n",
       "      <td>0.00</td>\n",
       "    </tr>\n",
       "    <tr>\n",
       "      <th>9</th>\n",
       "      <td>Daniela</td>\n",
       "      <td>and10.txt</td>\n",
       "      <td>0</td>\n",
       "      <td>1</td>\n",
       "      <td>123</td>\n",
       "      <td>11.18</td>\n",
       "      <td>13.01</td>\n",
       "      <td>0.81</td>\n",
       "      <td>0.00</td>\n",
       "      <td>0.81</td>\n",
       "      <td>...</td>\n",
       "      <td>3.25</td>\n",
       "      <td>3.25</td>\n",
       "      <td>0.81</td>\n",
       "      <td>0.81</td>\n",
       "      <td>28.46</td>\n",
       "      <td>1.63</td>\n",
       "      <td>2.44</td>\n",
       "      <td>4.88</td>\n",
       "      <td>3.25</td>\n",
       "      <td>0.81</td>\n",
       "    </tr>\n",
       "    <tr>\n",
       "      <th>10</th>\n",
       "      <td>Daniela</td>\n",
       "      <td>and11.txt</td>\n",
       "      <td>1</td>\n",
       "      <td>1</td>\n",
       "      <td>138</td>\n",
       "      <td>10.62</td>\n",
       "      <td>15.94</td>\n",
       "      <td>0.00</td>\n",
       "      <td>0.00</td>\n",
       "      <td>0.00</td>\n",
       "      <td>...</td>\n",
       "      <td>0.00</td>\n",
       "      <td>4.35</td>\n",
       "      <td>0.72</td>\n",
       "      <td>0.72</td>\n",
       "      <td>22.46</td>\n",
       "      <td>7.25</td>\n",
       "      <td>2.17</td>\n",
       "      <td>5.07</td>\n",
       "      <td>1.45</td>\n",
       "      <td>0.00</td>\n",
       "    </tr>\n",
       "  </tbody>\n",
       "</table>\n",
       "<p>11 rows × 35 columns</p>\n",
       "</div>"
      ],
      "text/plain": [
       "    amostra   filename  insigths  segment   wc    wps      i    we   you  \\\n",
       "0   Daniela  and01.txt         0        1  250  10.42  10.40  0.80  0.00   \n",
       "1   Daniela  and02.txt         0        1  218  12.11  12.84  0.46  0.00   \n",
       "2   Daniela  and03.txt         0        1   14   4.67  14.29  0.00  0.00   \n",
       "3   Daniela  and04.txt         0        1  403   8.57  14.39  0.00  0.25   \n",
       "4   Daniela  and05.txt         0        1  109  12.11   8.26  0.00  0.00   \n",
       "5   Daniela  and06.txt         0        1   88   6.77  10.23  0.00  3.41   \n",
       "6   Daniela  and07.txt         0        1  211   8.44   8.06  0.00  0.00   \n",
       "7   Daniela  and08.txt         0        1  162   8.53  13.58  0.00  0.00   \n",
       "8   Daniela  and09.txt         0        1   56  11.20  10.71  1.79  0.00   \n",
       "9   Daniela  and10.txt         0        1  123  11.18  13.01  0.81  0.00   \n",
       "10  Daniela  and11.txt         1        1  138  10.62  15.94  0.00  0.00   \n",
       "\n",
       "    they   ...     posemo  negemo   anx   sad  cogmech  insight  cause  \\\n",
       "0   0.40   ...       7.20    1.60  0.00  0.00    25.20     3.60   3.20   \n",
       "1   0.00   ...       3.67    0.92  0.00  0.46    24.31     2.29   0.92   \n",
       "2   0.00   ...       0.00    0.00  0.00  0.00    21.43     7.14   0.00   \n",
       "3   0.50   ...       5.46    3.47  0.00  0.50    28.29     5.21   2.98   \n",
       "4   0.92   ...       1.83    5.50  2.75  0.00    21.10     3.67   0.92   \n",
       "5   0.00   ...       4.55    7.95  2.27  1.14    14.77     1.14   0.00   \n",
       "6   0.95   ...       7.11    3.32  0.95  0.47    21.33     1.42   0.95   \n",
       "7   0.00   ...       6.17   11.11  1.85  7.41    19.14     3.09   4.32   \n",
       "8   0.00   ...       3.57    3.57  1.79  1.79    23.21     0.00   1.79   \n",
       "9   0.81   ...       3.25    3.25  0.81  0.81    28.46     1.63   2.44   \n",
       "10  0.00   ...       0.00    4.35  0.72  0.72    22.46     7.25   2.17   \n",
       "\n",
       "    discrep  tentat  certain  \n",
       "0      2.80    1.20     3.60  \n",
       "1      3.21    3.67     2.75  \n",
       "2      7.14    7.14     0.00  \n",
       "3      4.22    3.23     2.48  \n",
       "4      1.83    4.59     2.75  \n",
       "5      1.14    2.27     2.27  \n",
       "6      1.90    4.27     1.90  \n",
       "7      0.62    0.62     0.00  \n",
       "8      1.79    3.57     0.00  \n",
       "9      4.88    3.25     0.81  \n",
       "10     5.07    1.45     0.00  \n",
       "\n",
       "[11 rows x 35 columns]"
      ]
     },
     "execution_count": 14,
     "metadata": {},
     "output_type": "execute_result"
    }
   ],
   "source": [
    "insights_data.head(11)"
   ]
  },
  {
   "cell_type": "markdown",
   "metadata": {},
   "source": [
    "### Ordem do SelectKBest Chi2\n",
    "* 1 - i\n",
    "* 2 - wc\n",
    "* 3 - you\n",
    "* 4 - insight\n",
    "* 5 - cogmech"
   ]
  }
 ],
 "metadata": {
  "kernelspec": {
   "display_name": "Python 2",
   "language": "python",
   "name": "python2"
  },
  "language_info": {
   "codemirror_mode": {
    "name": "ipython",
    "version": 2
   },
   "file_extension": ".py",
   "mimetype": "text/x-python",
   "name": "python",
   "nbconvert_exporter": "python",
   "pygments_lexer": "ipython2",
   "version": "2.7.6"
  }
 },
 "nbformat": 4,
 "nbformat_minor": 0
}
